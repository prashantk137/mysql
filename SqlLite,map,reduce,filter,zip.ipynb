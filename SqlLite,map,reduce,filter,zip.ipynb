{
 "cells": [
  {
   "cell_type": "code",
   "execution_count": 1,
   "id": "89ea55d0",
   "metadata": {},
   "outputs": [],
   "source": [
    "import sqlite3"
   ]
  },
  {
   "cell_type": "code",
   "execution_count": 2,
   "id": "234a8d5d",
   "metadata": {},
   "outputs": [],
   "source": [
    "db=sqlite3.connect(\"ineuron.db\")"
   ]
  },
  {
   "cell_type": "code",
   "execution_count": 14,
   "id": "221c13cf",
   "metadata": {},
   "outputs": [
    {
     "name": "stdout",
     "output_type": "stream",
     "text": [
      " Volume in drive C has no label.\n",
      " Volume Serial Number is 1E4D-DCE3\n",
      "\n",
      " Directory of C:\\Users\\PRASHANT KUMAR\n",
      "\n",
      "12-04-2022  17:54    <DIR>          .\n",
      "16-01-2022  13:18    <DIR>          ..\n",
      "15-12-2019  12:13    <DIR>          .anaconda\n",
      "14-02-2020  11:35    <DIR>          .android\n",
      "17-01-2020  11:04    <DIR>          .AndroidStudio3.5\n",
      "21-07-2020  17:20               145 .appletviewer\n",
      "25-03-2022  10:52             1,010 .bash_history\n",
      "29-06-2021  14:36    <DIR>          .cache\n",
      "25-02-2022  09:33    <DIR>          .conda\n",
      "15-10-2020  13:05                43 .condarc\n",
      "08-02-2020  15:55    <DIR>          .config\n",
      "28-11-2021  13:34    <DIR>          .continuum\n",
      "14-06-2020  13:49    <DIR>          .dotnet\n",
      "11-03-2020  18:33    <DIR>          .eclipse\n",
      "17-01-2020  11:55                16 .emulator_console_auth_token\n",
      "25-03-2022  09:44               214 .gitconfig\n",
      "25-03-2022  09:04            12,288 .gitconfig.swp\n",
      "17-01-2020  11:55    <DIR>          .gradle\n",
      "07-02-2020  16:05    <DIR>          .idlerc\n",
      "12-04-2022  16:44    <DIR>          .ipynb_checkpoints\n",
      "15-12-2019  01:37    <DIR>          .ipython\n",
      "19-12-2021  11:28    <DIR>          .jupyter\n",
      "28-07-2020  20:31    <DIR>          .m2\n",
      "14-12-2019  15:17    <DIR>          .nbi\n",
      "29-06-2021  14:50    <DIR>          .p2\n",
      "02-12-2021  09:25    <DIR>          .spyder-py3\n",
      "11-03-2020  18:33    <DIR>          .tooling\n",
      "25-03-2022  09:05               762 .viminfo\n",
      "25-12-2021  16:01    <DIR>          .VirtualBox\n",
      "14-12-2019  18:39    <DIR>          .vscode\n",
      "13-03-2022  15:36    <DIR>          __pycache__\n",
      "26-12-2021  09:38             3,504 21st dec(for,while).ipynb\n",
      "24-08-2021  15:06    <DIR>          3D Objects\n",
      "23-03-2022  17:10             7,566 Abstraction.ipynb\n",
      "14-02-2020  12:38    <DIR>          AndroidStudioProjects\n",
      "28-01-2022  11:39               149 arithmatic.py\n",
      "04-04-2022  09:01            51,867 car.data\n",
      "07-04-2022  16:34           628,633 carbon_nanotubes.csv\n",
      "21-12-2021  12:45             7,578 conditional statement.ipynb\n",
      "16-01-2022  15:37    <DIR>          Contacts\n",
      "04-04-2022  12:44    <DIR>          Desktop\n",
      "07-03-2022  18:09    <DIR>          Documents\n",
      "07-04-2022  17:23    <DIR>          Downloads\n",
      "29-06-2021  14:05    <DIR>          eclipse\n",
      "29-06-2021  12:21    <DIR>          eclipse-workspace\n",
      "02-02-2022  20:52            33,366 Exception Handling.ipynb\n",
      "16-01-2022  15:37    <DIR>          Favorites\n",
      "24-12-2021  14:54            13,457 for, while,lambda.ipynb\n",
      "11-01-2022  16:25            34,720 function with argument,iterable,iterator.ipynb\n",
      "29-12-2021  12:40            14,911 Function(23th Dec).ipynb\n",
      "18-01-2022  16:02            67,764 generator,file operation.ipynb\n",
      "01-04-2022  11:24            11,903 glass.data\n",
      "16-10-2021  14:43    <DIR>          IBA_IOAPDATA\n",
      "12-04-2022  17:52             8,192 ineuron.db\n",
      "12-04-2022  17:54                 0 ineuron.db-journal\n",
      "21-03-2022  15:51            51,131 Inheritance.ipynb\n",
      "16-01-2022  15:37    <DIR>          Links\n",
      "28-01-2022  12:37             8,176 modules and package.ipynb\n",
      "07-04-2022  16:41            37,174 Mongodb.ipynb\n",
      "16-01-2022  15:37    <DIR>          Music\n",
      "13-03-2022  15:35               635 mydict.py\n",
      "27-01-2022  11:26    <DIR>          OneDrive\n",
      "13-03-2022  16:07             1,641 Oops(Part1).ipynb\n",
      "13-03-2022  20:42            17,056 oops.ipynb\n",
      "14-12-2019  15:55    <DIR>          Oracle\n",
      "16-01-2022  15:37    <DIR>          Pictures\n",
      "23-03-2022  17:10             9,704 polymorphism.ipynb\n",
      "09-03-2022  09:11    <DIR>          PycharmProjects\n",
      "25-03-2022  09:14    <DIR>          Python\n",
      "19-01-2022  16:27            37,898 Questions.ipynb\n",
      "16-01-2022  15:37    <DIR>          Saved Games\n",
      "16-01-2022  15:37    <DIR>          Searches\n",
      "14-12-2019  18:13    <DIR>          source\n",
      "01-04-2022  13:05           124,230 sql connection(part-1).ipynb\n",
      "04-04-2022  13:47           492,986 sql(part-2).ipynb\n",
      "12-04-2022  17:54             8,742 SqlLite.ipynb\n",
      "16-11-2020  19:41       114,273,560 Teams_windows_x64.exe\n",
      "25-01-2022  21:15               179 test.log\n",
      "18-01-2022  14:34                 0 test.txt\n",
      "16-03-2022  21:25                22 test1.txt\n",
      "25-01-2022  21:34               719 test2.log\n",
      "18-01-2022  14:40                21 test2.txt\n",
      "28-01-2022  11:31               154 test22.py\n",
      "25-01-2022  21:38                 0 test3.log\n",
      "18-01-2022  14:30                 0 text.txt\n",
      "28-11-2021  09:11    <DIR>          Tracing\n",
      "30-03-2022  15:47             1,858 Untitled.ipynb\n",
      "04-12-2021  14:23            14,021 Untitled1.ipynb\n",
      "11-01-2022  16:09            34,720 Untitled15.ipynb\n",
      "12-01-2022  14:08             4,789 Untitled16.ipynb\n",
      "05-12-2021  13:48            15,628 Untitled2.ipynb\n",
      "18-12-2021  15:27            17,346 Untitled3.ipynb\n",
      "22-01-2022  13:11            12,826 Untitled4.ipynb\n",
      "19-12-2021  12:54             7,580 Untitled5.ipynb\n",
      "21-12-2021  12:33             3,794 Untitled6.ipynb\n",
      "23-03-2022  10:42                72 Untitled7.ipynb\n",
      "23-03-2022  14:29                72 Untitled8.ipynb\n",
      "16-01-2022  15:37    <DIR>          Videos\n",
      "16-11-2020  19:16       102,233,600 webexapp.msi\n",
      "27-12-2021  10:39            10,289 while.ipynb\n",
      "              54 File(s)    218,318,711 bytes\n",
      "              46 Dir(s)  118,102,159,360 bytes free\n"
     ]
    }
   ],
   "source": [
    "ls"
   ]
  },
  {
   "cell_type": "code",
   "execution_count": 3,
   "id": "7efd1a3f",
   "metadata": {},
   "outputs": [],
   "source": [
    "c=db.cursor()"
   ]
  },
  {
   "cell_type": "code",
   "execution_count": 8,
   "id": "3fc937e9",
   "metadata": {},
   "outputs": [
    {
     "data": {
      "text/plain": [
       "<sqlite3.Cursor at 0x235e49a89d0>"
      ]
     },
     "execution_count": 8,
     "metadata": {},
     "output_type": "execute_result"
    }
   ],
   "source": [
    "c.execute('create table fsds(name text, batchid int,marks real)')"
   ]
  },
  {
   "cell_type": "code",
   "execution_count": 13,
   "id": "0e02a549",
   "metadata": {},
   "outputs": [
    {
     "data": {
      "text/plain": [
       "<sqlite3.Cursor at 0x235e49a89d0>"
      ]
     },
     "execution_count": 13,
     "metadata": {},
     "output_type": "execute_result"
    }
   ],
   "source": [
    "c.execute('insert into fsds values(\"Prashant Kumar\",100,454.67)')"
   ]
  },
  {
   "cell_type": "code",
   "execution_count": 16,
   "id": "f1dd3a29",
   "metadata": {},
   "outputs": [
    {
     "data": {
      "text/plain": [
       "<sqlite3.Cursor at 0x235e49a89d0>"
      ]
     },
     "execution_count": 16,
     "metadata": {},
     "output_type": "execute_result"
    }
   ],
   "source": [
    "c.execute('insert into fsds values(\"Rajeev Kumar\",100,450.67)')\n",
    "c.execute('insert into fsds values(\"Nirmal Kumar\",100,453.67)')\n",
    "c.execute('insert into fsds values(\"Priyanshu Kumar\",100,452.67)')\n",
    "c.execute('insert into fsds values(\"Adarsh Kumar\",100,456.67)')\n",
    "c.execute('insert into fsds values(\"Kundan Kumar\",100,458.67)')\n",
    "c.execute('insert into fsds values(\"Anand Kumar\",100,459.67)')"
   ]
  },
  {
   "cell_type": "code",
   "execution_count": 4,
   "id": "4b72a362",
   "metadata": {},
   "outputs": [
    {
     "data": {
      "text/plain": [
       "<sqlite3.Cursor at 0x1dd3ce346c0>"
      ]
     },
     "execution_count": 4,
     "metadata": {},
     "output_type": "execute_result"
    }
   ],
   "source": [
    "c.execute('select * from fsds')"
   ]
  },
  {
   "cell_type": "code",
   "execution_count": 5,
   "id": "4ae42d72",
   "metadata": {},
   "outputs": [
    {
     "data": {
      "text/plain": [
       "[('Prashant Kumar', 100, 454.67),\n",
       " ('Rajeev Kumar', 100, 450.67),\n",
       " ('Nirmal Kumar', 100, 453.67),\n",
       " ('Priyanshu Kumar', 100, 452.67),\n",
       " ('Adarsh Kumar', 100, 456.67),\n",
       " ('Kundan Kumar', 100, 458.67),\n",
       " ('Anand Kumar', 100, 459.67)]"
      ]
     },
     "execution_count": 5,
     "metadata": {},
     "output_type": "execute_result"
    }
   ],
   "source": [
    "c.fetchall()"
   ]
  },
  {
   "cell_type": "code",
   "execution_count": 19,
   "id": "e889c9f4",
   "metadata": {},
   "outputs": [],
   "source": [
    "data=c.execute('select * from fsds')"
   ]
  },
  {
   "cell_type": "code",
   "execution_count": 22,
   "id": "72ad3b32",
   "metadata": {},
   "outputs": [
    {
     "name": "stdout",
     "output_type": "stream",
     "text": [
      "('Rajeev Kumar', 100, 450.67)\n",
      "('Nirmal Kumar', 100, 453.67)\n",
      "('Priyanshu Kumar', 100, 452.67)\n",
      "('Adarsh Kumar', 100, 456.67)\n",
      "('Kundan Kumar', 100, 458.67)\n",
      "('Anand Kumar', 100, 459.67)\n"
     ]
    }
   ],
   "source": [
    "for i in data:\n",
    "    print(i)"
   ]
  },
  {
   "cell_type": "code",
   "execution_count": 23,
   "id": "f42cda30",
   "metadata": {},
   "outputs": [],
   "source": [
    "db.commit()"
   ]
  },
  {
   "cell_type": "code",
   "execution_count": 24,
   "id": "d4d5d611",
   "metadata": {},
   "outputs": [],
   "source": [
    "db.close()"
   ]
  },
  {
   "cell_type": "code",
   "execution_count": 3,
   "id": "81418295",
   "metadata": {},
   "outputs": [],
   "source": [
    "db=sqlite3.connect(\"ineuron.db\")"
   ]
  },
  {
   "cell_type": "code",
   "execution_count": 3,
   "id": "2f464c01",
   "metadata": {},
   "outputs": [],
   "source": [
    "c=db.cursor()"
   ]
  },
  {
   "cell_type": "code",
   "execution_count": 4,
   "id": "a7ac5249",
   "metadata": {},
   "outputs": [],
   "source": [
    "data=c.execute(\"select * from fsds where marks > 400\")"
   ]
  },
  {
   "cell_type": "code",
   "execution_count": 5,
   "id": "e02c599a",
   "metadata": {},
   "outputs": [
    {
     "name": "stdout",
     "output_type": "stream",
     "text": [
      "('Prashant Kumar', 100, 454.67)\n",
      "('Rajeev Kumar', 100, 450.67)\n",
      "('Nirmal Kumar', 100, 453.67)\n",
      "('Priyanshu Kumar', 100, 452.67)\n",
      "('Adarsh Kumar', 100, 456.67)\n",
      "('Kundan Kumar', 100, 458.67)\n",
      "('Anand Kumar', 100, 459.67)\n"
     ]
    }
   ],
   "source": [
    "for i in data:\n",
    "    print(i)"
   ]
  },
  {
   "cell_type": "code",
   "execution_count": 10,
   "id": "b0dbc17e",
   "metadata": {},
   "outputs": [],
   "source": [
    "data=c.execute(\"select * from fsds where name ='Prashant Kumar'\")"
   ]
  },
  {
   "cell_type": "code",
   "execution_count": 11,
   "id": "578c777c",
   "metadata": {},
   "outputs": [
    {
     "name": "stdout",
     "output_type": "stream",
     "text": [
      "('Prashant Kumar', 100, 454.67)\n"
     ]
    }
   ],
   "source": [
    "for i in data:\n",
    "    print(i)"
   ]
  },
  {
   "cell_type": "code",
   "execution_count": 12,
   "id": "a8b431c0",
   "metadata": {},
   "outputs": [],
   "source": [
    "data=c.execute(\"select name ,marks from fsds\")"
   ]
  },
  {
   "cell_type": "code",
   "execution_count": 13,
   "id": "8f635c9e",
   "metadata": {},
   "outputs": [
    {
     "name": "stdout",
     "output_type": "stream",
     "text": [
      "('Prashant Kumar', 454.67)\n",
      "('Rajeev Kumar', 450.67)\n",
      "('Nirmal Kumar', 453.67)\n",
      "('Priyanshu Kumar', 452.67)\n",
      "('Adarsh Kumar', 456.67)\n",
      "('Kundan Kumar', 458.67)\n",
      "('Anand Kumar', 459.67)\n"
     ]
    }
   ],
   "source": [
    "for i in data:\n",
    "    print(i)"
   ]
  },
  {
   "cell_type": "code",
   "execution_count": 14,
   "id": "ed59f53d",
   "metadata": {},
   "outputs": [],
   "source": [
    "data=c.execute('select name,marks from fsds order by marks')"
   ]
  },
  {
   "cell_type": "code",
   "execution_count": 15,
   "id": "1f53c1d6",
   "metadata": {},
   "outputs": [
    {
     "name": "stdout",
     "output_type": "stream",
     "text": [
      "('Rajeev Kumar', 450.67)\n",
      "('Priyanshu Kumar', 452.67)\n",
      "('Nirmal Kumar', 453.67)\n",
      "('Prashant Kumar', 454.67)\n",
      "('Adarsh Kumar', 456.67)\n",
      "('Kundan Kumar', 458.67)\n",
      "('Anand Kumar', 459.67)\n"
     ]
    }
   ],
   "source": [
    "for i in data:\n",
    "    print(i)"
   ]
  },
  {
   "cell_type": "code",
   "execution_count": 16,
   "id": "a3a930d7",
   "metadata": {},
   "outputs": [],
   "source": [
    "db.close()"
   ]
  },
  {
   "cell_type": "code",
   "execution_count": 17,
   "id": "98f9bd73",
   "metadata": {},
   "outputs": [],
   "source": [
    "db=sqlite3.connect(\"person.db\")"
   ]
  },
  {
   "cell_type": "code",
   "execution_count": 18,
   "id": "cf1ca1ea",
   "metadata": {},
   "outputs": [],
   "source": [
    "c=db.cursor()"
   ]
  },
  {
   "cell_type": "code",
   "execution_count": 19,
   "id": "42094c90",
   "metadata": {},
   "outputs": [
    {
     "data": {
      "text/plain": [
       "<sqlite3.Cursor at 0x171a69e1500>"
      ]
     },
     "execution_count": 19,
     "metadata": {},
     "output_type": "execute_result"
    }
   ],
   "source": [
    "c.execute(\"create table person_table(name text,emailid text,age int,salary real)\")"
   ]
  },
  {
   "cell_type": "code",
   "execution_count": 20,
   "id": "c09ac920",
   "metadata": {},
   "outputs": [
    {
     "name": "stdout",
     "output_type": "stream",
     "text": [
      " Volume in drive C has no label.\n",
      " Volume Serial Number is 1E4D-DCE3\n",
      "\n",
      " Directory of C:\\Users\\PRASHANT KUMAR\n",
      "\n",
      "14-04-2022  08:01    <DIR>          .\n",
      "16-01-2022  13:18    <DIR>          ..\n",
      "15-12-2019  12:13    <DIR>          .anaconda\n",
      "14-02-2020  11:35    <DIR>          .android\n",
      "17-01-2020  11:04    <DIR>          .AndroidStudio3.5\n",
      "21-07-2020  17:20               145 .appletviewer\n",
      "25-03-2022  10:52             1,010 .bash_history\n",
      "29-06-2021  14:36    <DIR>          .cache\n",
      "25-02-2022  09:33    <DIR>          .conda\n",
      "15-10-2020  13:05                43 .condarc\n",
      "08-02-2020  15:55    <DIR>          .config\n",
      "28-11-2021  13:34    <DIR>          .continuum\n",
      "14-06-2020  13:49    <DIR>          .dotnet\n",
      "11-03-2020  18:33    <DIR>          .eclipse\n",
      "17-01-2020  11:55                16 .emulator_console_auth_token\n",
      "25-03-2022  09:44               214 .gitconfig\n",
      "25-03-2022  09:04            12,288 .gitconfig.swp\n",
      "17-01-2020  11:55    <DIR>          .gradle\n",
      "07-02-2020  16:05    <DIR>          .idlerc\n",
      "12-04-2022  16:44    <DIR>          .ipynb_checkpoints\n",
      "15-12-2019  01:37    <DIR>          .ipython\n",
      "19-12-2021  11:28    <DIR>          .jupyter\n",
      "28-07-2020  20:31    <DIR>          .m2\n",
      "14-12-2019  15:17    <DIR>          .nbi\n",
      "29-06-2021  14:50    <DIR>          .p2\n",
      "02-12-2021  09:25    <DIR>          .spyder-py3\n",
      "11-03-2020  18:33    <DIR>          .tooling\n",
      "25-03-2022  09:05               762 .viminfo\n",
      "25-12-2021  16:01    <DIR>          .VirtualBox\n",
      "14-12-2019  18:39    <DIR>          .vscode\n",
      "13-03-2022  15:36    <DIR>          __pycache__\n",
      "26-12-2021  09:38             3,504 21st dec(for,while).ipynb\n",
      "24-08-2021  15:06    <DIR>          3D Objects\n",
      "23-03-2022  17:10             7,566 Abstraction.ipynb\n",
      "14-02-2020  12:38    <DIR>          AndroidStudioProjects\n",
      "28-01-2022  11:39               149 arithmatic.py\n",
      "04-04-2022  09:01            51,867 car.data\n",
      "07-04-2022  16:34           628,633 carbon_nanotubes.csv\n",
      "21-12-2021  12:45             7,578 conditional statement.ipynb\n",
      "16-01-2022  15:37    <DIR>          Contacts\n",
      "04-04-2022  12:44    <DIR>          Desktop\n",
      "07-03-2022  18:09    <DIR>          Documents\n",
      "07-04-2022  17:23    <DIR>          Downloads\n",
      "29-06-2021  14:05    <DIR>          eclipse\n",
      "29-06-2021  12:21    <DIR>          eclipse-workspace\n",
      "02-02-2022  20:52            33,366 Exception Handling.ipynb\n",
      "16-01-2022  15:37    <DIR>          Favorites\n",
      "24-12-2021  14:54            13,457 for, while,lambda.ipynb\n",
      "11-01-2022  16:25            34,720 function with argument,iterable,iterator.ipynb\n",
      "29-12-2021  12:40            14,911 Function(23th Dec).ipynb\n",
      "18-01-2022  16:02            67,764 generator,file operation.ipynb\n",
      "01-04-2022  11:24            11,903 glass.data\n",
      "16-10-2021  14:43    <DIR>          IBA_IOAPDATA\n",
      "12-04-2022  18:00             8,192 ineuron.db\n",
      "21-03-2022  15:51            51,131 Inheritance.ipynb\n",
      "16-01-2022  15:37    <DIR>          Links\n",
      "28-01-2022  12:37             8,176 modules and package.ipynb\n",
      "07-04-2022  16:41            37,174 Mongodb.ipynb\n",
      "16-01-2022  15:37    <DIR>          Music\n",
      "13-03-2022  15:35               635 mydict.py\n",
      "27-01-2022  11:26    <DIR>          OneDrive\n",
      "13-03-2022  16:07             1,641 Oops(Part1).ipynb\n",
      "13-03-2022  20:42            17,056 oops.ipynb\n",
      "14-12-2019  15:55    <DIR>          Oracle\n",
      "14-04-2022  08:01             8,192 person.db\n",
      "16-01-2022  15:37    <DIR>          Pictures\n",
      "23-03-2022  17:10             9,704 polymorphism.ipynb\n",
      "09-03-2022  09:11    <DIR>          PycharmProjects\n",
      "25-03-2022  09:14    <DIR>          Python\n",
      "19-01-2022  16:27            37,898 Questions.ipynb\n",
      "16-01-2022  15:37    <DIR>          Saved Games\n",
      "16-01-2022  15:37    <DIR>          Searches\n",
      "14-12-2019  18:13    <DIR>          source\n",
      "01-04-2022  13:05           124,230 sql connection(part-1).ipynb\n",
      "04-04-2022  13:47           492,986 sql(part-2).ipynb\n",
      "14-04-2022  08:00            14,812 SqlLite.ipynb\n",
      "16-11-2020  19:41       114,273,560 Teams_windows_x64.exe\n",
      "25-01-2022  21:15               179 test.log\n",
      "18-01-2022  14:34                 0 test.txt\n",
      "16-03-2022  21:25                22 test1.txt\n",
      "25-01-2022  21:34               719 test2.log\n",
      "18-01-2022  14:40                21 test2.txt\n",
      "28-01-2022  11:31               154 test22.py\n",
      "25-01-2022  21:38                 0 test3.log\n",
      "18-01-2022  14:30                 0 text.txt\n",
      "28-11-2021  09:11    <DIR>          Tracing\n",
      "30-03-2022  15:47             1,858 Untitled.ipynb\n",
      "04-12-2021  14:23            14,021 Untitled1.ipynb\n",
      "11-01-2022  16:09            34,720 Untitled15.ipynb\n",
      "12-01-2022  14:08             4,789 Untitled16.ipynb\n",
      "05-12-2021  13:48            15,628 Untitled2.ipynb\n",
      "18-12-2021  15:27            17,346 Untitled3.ipynb\n",
      "22-01-2022  13:11            12,826 Untitled4.ipynb\n",
      "19-12-2021  12:54             7,580 Untitled5.ipynb\n",
      "21-12-2021  12:33             3,794 Untitled6.ipynb\n",
      "23-03-2022  10:42                72 Untitled7.ipynb\n",
      "23-03-2022  14:29                72 Untitled8.ipynb\n",
      "16-01-2022  15:37    <DIR>          Videos\n",
      "16-11-2020  19:16       102,233,600 webexapp.msi\n",
      "27-12-2021  10:39            10,289 while.ipynb\n",
      "              54 File(s)    218,332,973 bytes\n",
      "              46 Dir(s)  117,418,115,072 bytes free\n"
     ]
    }
   ],
   "source": [
    "ls"
   ]
  },
  {
   "cell_type": "code",
   "execution_count": 21,
   "id": "d9598d82",
   "metadata": {},
   "outputs": [
    {
     "data": {
      "text/plain": [
       "<sqlite3.Cursor at 0x171a69e1500>"
      ]
     },
     "execution_count": 21,
     "metadata": {},
     "output_type": "execute_result"
    }
   ],
   "source": [
    "c.execute(\"insert into person_table values('prashant','prasantk065@gmail.com',23,22496)\")\n",
    "c.execute(\"insert into person_table values('rajeev','rajeevk065@gmail.com',21,22496)\")\n",
    "c.execute(\"insert into person_table values('nirmal','nirmalsinghk065@gmail.com',26,22496)\")\n",
    "c.execute(\"insert into person_table values('anand','anandk065@gmail.com',27,22496)\")\n",
    "c.execute(\"insert into person_table values('adarsh','adarshk065@gmail.com',24,35000)\")"
   ]
  },
  {
   "cell_type": "code",
   "execution_count": 22,
   "id": "646f29b9",
   "metadata": {},
   "outputs": [
    {
     "name": "stdout",
     "output_type": "stream",
     "text": [
      " Volume in drive C has no label.\n",
      " Volume Serial Number is 1E4D-DCE3\n",
      "\n",
      " Directory of C:\\Users\\PRASHANT KUMAR\n",
      "\n",
      "14-04-2022  08:06    <DIR>          .\n",
      "16-01-2022  13:18    <DIR>          ..\n",
      "15-12-2019  12:13    <DIR>          .anaconda\n",
      "14-02-2020  11:35    <DIR>          .android\n",
      "17-01-2020  11:04    <DIR>          .AndroidStudio3.5\n",
      "21-07-2020  17:20               145 .appletviewer\n",
      "25-03-2022  10:52             1,010 .bash_history\n",
      "29-06-2021  14:36    <DIR>          .cache\n",
      "25-02-2022  09:33    <DIR>          .conda\n",
      "15-10-2020  13:05                43 .condarc\n",
      "08-02-2020  15:55    <DIR>          .config\n",
      "28-11-2021  13:34    <DIR>          .continuum\n",
      "14-06-2020  13:49    <DIR>          .dotnet\n",
      "11-03-2020  18:33    <DIR>          .eclipse\n",
      "17-01-2020  11:55                16 .emulator_console_auth_token\n",
      "25-03-2022  09:44               214 .gitconfig\n",
      "25-03-2022  09:04            12,288 .gitconfig.swp\n",
      "17-01-2020  11:55    <DIR>          .gradle\n",
      "07-02-2020  16:05    <DIR>          .idlerc\n",
      "12-04-2022  16:44    <DIR>          .ipynb_checkpoints\n",
      "15-12-2019  01:37    <DIR>          .ipython\n",
      "19-12-2021  11:28    <DIR>          .jupyter\n",
      "28-07-2020  20:31    <DIR>          .m2\n",
      "14-12-2019  15:17    <DIR>          .nbi\n",
      "29-06-2021  14:50    <DIR>          .p2\n",
      "02-12-2021  09:25    <DIR>          .spyder-py3\n",
      "11-03-2020  18:33    <DIR>          .tooling\n",
      "25-03-2022  09:05               762 .viminfo\n",
      "25-12-2021  16:01    <DIR>          .VirtualBox\n",
      "14-12-2019  18:39    <DIR>          .vscode\n",
      "13-03-2022  15:36    <DIR>          __pycache__\n",
      "26-12-2021  09:38             3,504 21st dec(for,while).ipynb\n",
      "24-08-2021  15:06    <DIR>          3D Objects\n",
      "23-03-2022  17:10             7,566 Abstraction.ipynb\n",
      "14-02-2020  12:38    <DIR>          AndroidStudioProjects\n",
      "28-01-2022  11:39               149 arithmatic.py\n",
      "04-04-2022  09:01            51,867 car.data\n",
      "07-04-2022  16:34           628,633 carbon_nanotubes.csv\n",
      "21-12-2021  12:45             7,578 conditional statement.ipynb\n",
      "16-01-2022  15:37    <DIR>          Contacts\n",
      "04-04-2022  12:44    <DIR>          Desktop\n",
      "07-03-2022  18:09    <DIR>          Documents\n",
      "07-04-2022  17:23    <DIR>          Downloads\n",
      "29-06-2021  14:05    <DIR>          eclipse\n",
      "29-06-2021  12:21    <DIR>          eclipse-workspace\n",
      "02-02-2022  20:52            33,366 Exception Handling.ipynb\n",
      "16-01-2022  15:37    <DIR>          Favorites\n",
      "24-12-2021  14:54            13,457 for, while,lambda.ipynb\n",
      "11-01-2022  16:25            34,720 function with argument,iterable,iterator.ipynb\n",
      "29-12-2021  12:40            14,911 Function(23th Dec).ipynb\n",
      "18-01-2022  16:02            67,764 generator,file operation.ipynb\n",
      "01-04-2022  11:24            11,903 glass.data\n",
      "16-10-2021  14:43    <DIR>          IBA_IOAPDATA\n",
      "12-04-2022  18:00             8,192 ineuron.db\n",
      "21-03-2022  15:51            51,131 Inheritance.ipynb\n",
      "16-01-2022  15:37    <DIR>          Links\n",
      "28-01-2022  12:37             8,176 modules and package.ipynb\n",
      "07-04-2022  16:41            37,174 Mongodb.ipynb\n",
      "16-01-2022  15:37    <DIR>          Music\n",
      "13-03-2022  15:35               635 mydict.py\n",
      "27-01-2022  11:26    <DIR>          OneDrive\n",
      "13-03-2022  16:07             1,641 Oops(Part1).ipynb\n",
      "13-03-2022  20:42            17,056 oops.ipynb\n",
      "14-12-2019  15:55    <DIR>          Oracle\n",
      "14-04-2022  08:01             8,192 person.db\n",
      "14-04-2022  08:06                 0 person.db-journal\n",
      "16-01-2022  15:37    <DIR>          Pictures\n",
      "23-03-2022  17:10             9,704 polymorphism.ipynb\n",
      "09-03-2022  09:11    <DIR>          PycharmProjects\n",
      "25-03-2022  09:14    <DIR>          Python\n",
      "19-01-2022  16:27            37,898 Questions.ipynb\n",
      "16-01-2022  15:37    <DIR>          Saved Games\n",
      "16-01-2022  15:37    <DIR>          Searches\n",
      "14-12-2019  18:13    <DIR>          source\n",
      "01-04-2022  13:05           124,230 sql connection(part-1).ipynb\n",
      "04-04-2022  13:47           492,986 sql(part-2).ipynb\n",
      "14-04-2022  08:04            22,219 SqlLite.ipynb\n",
      "16-11-2020  19:41       114,273,560 Teams_windows_x64.exe\n",
      "25-01-2022  21:15               179 test.log\n",
      "18-01-2022  14:34                 0 test.txt\n",
      "16-03-2022  21:25                22 test1.txt\n",
      "25-01-2022  21:34               719 test2.log\n",
      "18-01-2022  14:40                21 test2.txt\n",
      "28-01-2022  11:31               154 test22.py\n",
      "25-01-2022  21:38                 0 test3.log\n",
      "18-01-2022  14:30                 0 text.txt\n",
      "28-11-2021  09:11    <DIR>          Tracing\n",
      "30-03-2022  15:47             1,858 Untitled.ipynb\n",
      "04-12-2021  14:23            14,021 Untitled1.ipynb\n",
      "11-01-2022  16:09            34,720 Untitled15.ipynb\n",
      "12-01-2022  14:08             4,789 Untitled16.ipynb\n",
      "05-12-2021  13:48            15,628 Untitled2.ipynb\n",
      "18-12-2021  15:27            17,346 Untitled3.ipynb\n",
      "22-01-2022  13:11            12,826 Untitled4.ipynb\n",
      "19-12-2021  12:54             7,580 Untitled5.ipynb\n",
      "21-12-2021  12:33             3,794 Untitled6.ipynb\n",
      "23-03-2022  10:42                72 Untitled7.ipynb\n",
      "23-03-2022  14:29                72 Untitled8.ipynb\n",
      "16-01-2022  15:37    <DIR>          Videos\n",
      "16-11-2020  19:16       102,233,600 webexapp.msi\n",
      "27-12-2021  10:39            10,289 while.ipynb\n",
      "              55 File(s)    218,340,380 bytes\n",
      "              46 Dir(s)  117,381,586,944 bytes free\n"
     ]
    }
   ],
   "source": [
    "ls"
   ]
  },
  {
   "cell_type": "code",
   "execution_count": 13,
   "id": "ae47bfc6",
   "metadata": {},
   "outputs": [],
   "source": [
    "data=c.execute('select * from person_table')"
   ]
  },
  {
   "cell_type": "code",
   "execution_count": 14,
   "id": "1abc2ca3",
   "metadata": {},
   "outputs": [
    {
     "name": "stdout",
     "output_type": "stream",
     "text": [
      "('prashant', 'prasantk065@gmail.com', 23, 22496.0)\n",
      "('rajeev', 'rajeevk065@gmail.com', 21, 22496.0)\n",
      "('nirmal', 'nirmalsinghk065@gmail.com', 26, 22496.0)\n",
      "('anand', 'anandk065@gmail.com', 27, 22496.0)\n",
      "('adarsh', 'adarshk065@gmail.com', 24, 35000.0)\n",
      "('prashant', 'prasantk065@gmail.com', 23, 22496.0)\n",
      "('rajeev', 'rajeevk065@gmail.com', 21, 22496.0)\n",
      "('nirmal', 'nirmalsinghk065@gmail.com', 26, 22496.0)\n",
      "('anand', 'anandk065@gmail.com', 27, 22496.0)\n",
      "('adarsh', 'adarshk065@gmail.com', 24, 35000.0)\n"
     ]
    }
   ],
   "source": [
    "for i in data:\n",
    "    print(i)"
   ]
  },
  {
   "cell_type": "code",
   "execution_count": 28,
   "id": "eb477d11",
   "metadata": {},
   "outputs": [],
   "source": [
    "db.commit()"
   ]
  },
  {
   "cell_type": "code",
   "execution_count": 29,
   "id": "5ba67cce",
   "metadata": {},
   "outputs": [],
   "source": [
    "db.close()"
   ]
  },
  {
   "cell_type": "code",
   "execution_count": 30,
   "id": "54b0778e",
   "metadata": {},
   "outputs": [],
   "source": [
    "db=sqlite3.connect('ineuron.db')"
   ]
  },
  {
   "cell_type": "code",
   "execution_count": 31,
   "id": "f461c208",
   "metadata": {},
   "outputs": [],
   "source": [
    "c=db.cursor()"
   ]
  },
  {
   "cell_type": "code",
   "execution_count": 32,
   "id": "aa6f875c",
   "metadata": {},
   "outputs": [
    {
     "data": {
      "text/plain": [
       "<sqlite3.Cursor at 0x171a6a848f0>"
      ]
     },
     "execution_count": 32,
     "metadata": {},
     "output_type": "execute_result"
    }
   ],
   "source": [
    "c.execute('drop table fsds')"
   ]
  },
  {
   "cell_type": "code",
   "execution_count": 33,
   "id": "19df48b3",
   "metadata": {},
   "outputs": [
    {
     "ename": "OperationalError",
     "evalue": "no such table: fsds",
     "output_type": "error",
     "traceback": [
      "\u001b[1;31m---------------------------------------------------------------------------\u001b[0m",
      "\u001b[1;31mOperationalError\u001b[0m                          Traceback (most recent call last)",
      "\u001b[1;32mC:\\Users\\PRASHA~1\\AppData\\Local\\Temp/ipykernel_13336/920992751.py\u001b[0m in \u001b[0;36m<module>\u001b[1;34m\u001b[0m\n\u001b[1;32m----> 1\u001b[1;33m \u001b[0mc\u001b[0m\u001b[1;33m.\u001b[0m\u001b[0mexecute\u001b[0m\u001b[1;33m(\u001b[0m\u001b[1;34m'select * from fsds'\u001b[0m\u001b[1;33m)\u001b[0m\u001b[1;33m\u001b[0m\u001b[1;33m\u001b[0m\u001b[0m\n\u001b[0m",
      "\u001b[1;31mOperationalError\u001b[0m: no such table: fsds"
     ]
    }
   ],
   "source": [
    "c.execute('select * from fsds')"
   ]
  },
  {
   "cell_type": "code",
   "execution_count": 34,
   "id": "13cdee1d",
   "metadata": {},
   "outputs": [],
   "source": [
    "db.close()"
   ]
  },
  {
   "cell_type": "code",
   "execution_count": 2,
   "id": "ebbda8df",
   "metadata": {},
   "outputs": [],
   "source": [
    "db=sqlite3.connect('person.db')"
   ]
  },
  {
   "cell_type": "code",
   "execution_count": 3,
   "id": "20f9b4aa",
   "metadata": {},
   "outputs": [],
   "source": [
    "c=db.cursor()"
   ]
  },
  {
   "cell_type": "code",
   "execution_count": 6,
   "id": "d6f2495f",
   "metadata": {},
   "outputs": [],
   "source": [
    "data=c.execute('select * from person_table limit 2')"
   ]
  },
  {
   "cell_type": "code",
   "execution_count": 7,
   "id": "61ecade3",
   "metadata": {},
   "outputs": [
    {
     "name": "stdout",
     "output_type": "stream",
     "text": [
      "('prashant', 'prasantk065@gmail.com', 23, 22496.0)\n",
      "('rajeev', 'rajeevk065@gmail.com', 21, 22496.0)\n"
     ]
    }
   ],
   "source": [
    "for i in data:\n",
    "    print(i)"
   ]
  },
  {
   "cell_type": "code",
   "execution_count": 8,
   "id": "44e46b50",
   "metadata": {},
   "outputs": [],
   "source": [
    "db.close()"
   ]
  },
  {
   "cell_type": "code",
   "execution_count": 9,
   "id": "5eb5e773",
   "metadata": {},
   "outputs": [],
   "source": [
    "db=sqlite3.connect('joindb.db')"
   ]
  },
  {
   "cell_type": "code",
   "execution_count": 10,
   "id": "d3f8f574",
   "metadata": {},
   "outputs": [],
   "source": [
    "c=db.cursor()"
   ]
  },
  {
   "cell_type": "code",
   "execution_count": 11,
   "id": "50424a16",
   "metadata": {},
   "outputs": [
    {
     "data": {
      "text/plain": [
       "<sqlite3.Cursor at 0x1e7ecb24ab0>"
      ]
     },
     "execution_count": 11,
     "metadata": {},
     "output_type": "execute_result"
    }
   ],
   "source": [
    "c.execute('create table student(student_id int,student_name text,student_mailid text,marks int)')"
   ]
  },
  {
   "cell_type": "code",
   "execution_count": 14,
   "id": "6aa6f701",
   "metadata": {},
   "outputs": [
    {
     "data": {
      "text/plain": [
       "<sqlite3.Cursor at 0x1e7ecb24ab0>"
      ]
     },
     "execution_count": 14,
     "metadata": {},
     "output_type": "execute_result"
    }
   ],
   "source": [
    "c.execute('create table address(student_id int,pincode int,location text,nearby text,phone_no int)')"
   ]
  },
  {
   "cell_type": "code",
   "execution_count": 13,
   "id": "e055b50a",
   "metadata": {},
   "outputs": [
    {
     "data": {
      "text/plain": [
       "<sqlite3.Cursor at 0x1e7ecb24ab0>"
      ]
     },
     "execution_count": 13,
     "metadata": {},
     "output_type": "execute_result"
    }
   ],
   "source": [
    "c.execute('drop table address')"
   ]
  },
  {
   "cell_type": "code",
   "execution_count": 16,
   "id": "116fd29a",
   "metadata": {},
   "outputs": [
    {
     "data": {
      "text/plain": [
       "<sqlite3.Cursor at 0x1e7ecb24ab0>"
      ]
     },
     "execution_count": 16,
     "metadata": {},
     "output_type": "execute_result"
    }
   ],
   "source": [
    "c.execute('insert into student values(100,\"prashant\",\"prasank065@gmail.com\",350)')\n",
    "c.execute('insert into student values(101,\"prashant\",\"prasank065@gmail.com\",350)')\n",
    "c.execute('insert into student values(102,\"prashant\",\"prasank065@gmail.com\",350)')\n",
    "c.execute('insert into student values(103,\"prashant\",\"prasank065@gmail.com\",350)')\n",
    "c.execute('insert into student values(104,\"prashant\",\"prasank065@gmail.com\",350)')\n",
    "c.execute('insert into student values(105,\"prashant\",\"prasank065@gmail.com\",350)')"
   ]
  },
  {
   "cell_type": "code",
   "execution_count": 17,
   "id": "54a016a1",
   "metadata": {},
   "outputs": [
    {
     "data": {
      "text/plain": [
       "<sqlite3.Cursor at 0x1e7ecb24ab0>"
      ]
     },
     "execution_count": 17,
     "metadata": {},
     "output_type": "execute_result"
    }
   ],
   "source": [
    "c.execute(\"insert into address values(100,851123,'whitefield','ineuron office',123456789)\")\n",
    "c.execute(\"insert into address values(101,851123,'whitefield','ineuron office',123456789)\")\n",
    "c.execute(\"insert into address values(100,851123,'whitefield','ineuron office',123456789)\")\n",
    "c.execute(\"insert into address values(102,851123,'whitefield','ineuron office',123456789)\")\n",
    "c.execute(\"insert into address values(103,851123,'whitefield','ineuron office',123456789)\")\n",
    "c.execute(\"insert into address values(104,851123,'whitefield','ineuron office',123456789)\")\n",
    "c.execute(\"insert into address values(102,851123,'whitefield','ineuron office',123456789)\")\n",
    "c.execute(\"insert into address values(103,851123,'whitefield','ineuron office',123456789)\")\n",
    "c.execute(\"insert into address values(104,851123,'whitefield','ineuron office',123456789)\")\n",
    "c.execute(\"insert into address values(105,851123,'whitefield','ineuron office',123456789)\")\n",
    "c.execute(\"insert into address values(106,851123,'whitefield','ineuron office',123456789)\")\n",
    "c.execute(\"insert into address values(104,851123,'whitefield','ineuron office',123456789)\")\n",
    "c.execute(\"insert into address values(106,851123,'whitefield','ineuron office',123456789)\")\n",
    "c.execute(\"insert into address values(104,851123,'whitefield','ineuron office',123456789)\")\n",
    "c.execute(\"insert into address values(105,851123,'whitefield','ineuron office',123456789)\")"
   ]
  },
  {
   "cell_type": "code",
   "execution_count": 18,
   "id": "fcf85f4e",
   "metadata": {},
   "outputs": [
    {
     "name": "stdout",
     "output_type": "stream",
     "text": [
      "(100, 851123, 'whitefield', 'ineuron office', 123456789)\n",
      "(101, 851123, 'whitefield', 'ineuron office', 123456789)\n",
      "(100, 851123, 'whitefield', 'ineuron office', 123456789)\n",
      "(102, 851123, 'whitefield', 'ineuron office', 123456789)\n",
      "(103, 851123, 'whitefield', 'ineuron office', 123456789)\n",
      "(104, 851123, 'whitefield', 'ineuron office', 123456789)\n",
      "(102, 851123, 'whitefield', 'ineuron office', 123456789)\n",
      "(103, 851123, 'whitefield', 'ineuron office', 123456789)\n",
      "(104, 851123, 'whitefield', 'ineuron office', 123456789)\n",
      "(105, 851123, 'whitefield', 'ineuron office', 123456789)\n",
      "(106, 851123, 'whitefield', 'ineuron office', 123456789)\n",
      "(104, 851123, 'whitefield', 'ineuron office', 123456789)\n",
      "(106, 851123, 'whitefield', 'ineuron office', 123456789)\n",
      "(104, 851123, 'whitefield', 'ineuron office', 123456789)\n",
      "(105, 851123, 'whitefield', 'ineuron office', 123456789)\n"
     ]
    }
   ],
   "source": [
    "for i in c.execute('select * from address'):\n",
    "    print(i)"
   ]
  },
  {
   "cell_type": "code",
   "execution_count": 19,
   "id": "a7a926ea",
   "metadata": {},
   "outputs": [
    {
     "name": "stdout",
     "output_type": "stream",
     "text": [
      "(100, 'prashant', 'prasank065@gmail.com', 350)\n",
      "(100, 'prashant', 'prasank065@gmail.com', 350)\n",
      "(100, 'prashant', 'prasank065@gmail.com', 350)\n",
      "(100, 'prashant', 'prasank065@gmail.com', 350)\n",
      "(100, 'prashant', 'prasank065@gmail.com', 350)\n",
      "(100, 'prashant', 'prasank065@gmail.com', 350)\n",
      "(100, 'prashant', 'prasank065@gmail.com', 350)\n",
      "(101, 'prashant', 'prasank065@gmail.com', 350)\n",
      "(102, 'prashant', 'prasank065@gmail.com', 350)\n",
      "(103, 'prashant', 'prasank065@gmail.com', 350)\n",
      "(104, 'prashant', 'prasank065@gmail.com', 350)\n",
      "(105, 'prashant', 'prasank065@gmail.com', 350)\n"
     ]
    }
   ],
   "source": [
    "for i in c.execute('select * from student'):\n",
    "    print(i)"
   ]
  },
  {
   "cell_type": "code",
   "execution_count": 20,
   "id": "08088980",
   "metadata": {},
   "outputs": [],
   "source": [
    "data=c.execute('select * from student s left join address a on s.student_id=a.student_id')"
   ]
  },
  {
   "cell_type": "code",
   "execution_count": 21,
   "id": "05ed7357",
   "metadata": {
    "scrolled": false
   },
   "outputs": [
    {
     "name": "stdout",
     "output_type": "stream",
     "text": [
      "(100, 'prashant', 'prasank065@gmail.com', 350, 100, 851123, 'whitefield', 'ineuron office', 123456789)\n",
      "(100, 'prashant', 'prasank065@gmail.com', 350, 100, 851123, 'whitefield', 'ineuron office', 123456789)\n",
      "(100, 'prashant', 'prasank065@gmail.com', 350, 100, 851123, 'whitefield', 'ineuron office', 123456789)\n",
      "(100, 'prashant', 'prasank065@gmail.com', 350, 100, 851123, 'whitefield', 'ineuron office', 123456789)\n",
      "(100, 'prashant', 'prasank065@gmail.com', 350, 100, 851123, 'whitefield', 'ineuron office', 123456789)\n",
      "(100, 'prashant', 'prasank065@gmail.com', 350, 100, 851123, 'whitefield', 'ineuron office', 123456789)\n",
      "(100, 'prashant', 'prasank065@gmail.com', 350, 100, 851123, 'whitefield', 'ineuron office', 123456789)\n",
      "(100, 'prashant', 'prasank065@gmail.com', 350, 100, 851123, 'whitefield', 'ineuron office', 123456789)\n",
      "(100, 'prashant', 'prasank065@gmail.com', 350, 100, 851123, 'whitefield', 'ineuron office', 123456789)\n",
      "(100, 'prashant', 'prasank065@gmail.com', 350, 100, 851123, 'whitefield', 'ineuron office', 123456789)\n",
      "(100, 'prashant', 'prasank065@gmail.com', 350, 100, 851123, 'whitefield', 'ineuron office', 123456789)\n",
      "(100, 'prashant', 'prasank065@gmail.com', 350, 100, 851123, 'whitefield', 'ineuron office', 123456789)\n",
      "(100, 'prashant', 'prasank065@gmail.com', 350, 100, 851123, 'whitefield', 'ineuron office', 123456789)\n",
      "(100, 'prashant', 'prasank065@gmail.com', 350, 100, 851123, 'whitefield', 'ineuron office', 123456789)\n",
      "(101, 'prashant', 'prasank065@gmail.com', 350, 101, 851123, 'whitefield', 'ineuron office', 123456789)\n",
      "(102, 'prashant', 'prasank065@gmail.com', 350, 102, 851123, 'whitefield', 'ineuron office', 123456789)\n",
      "(102, 'prashant', 'prasank065@gmail.com', 350, 102, 851123, 'whitefield', 'ineuron office', 123456789)\n",
      "(103, 'prashant', 'prasank065@gmail.com', 350, 103, 851123, 'whitefield', 'ineuron office', 123456789)\n",
      "(103, 'prashant', 'prasank065@gmail.com', 350, 103, 851123, 'whitefield', 'ineuron office', 123456789)\n",
      "(104, 'prashant', 'prasank065@gmail.com', 350, 104, 851123, 'whitefield', 'ineuron office', 123456789)\n",
      "(104, 'prashant', 'prasank065@gmail.com', 350, 104, 851123, 'whitefield', 'ineuron office', 123456789)\n",
      "(104, 'prashant', 'prasank065@gmail.com', 350, 104, 851123, 'whitefield', 'ineuron office', 123456789)\n",
      "(104, 'prashant', 'prasank065@gmail.com', 350, 104, 851123, 'whitefield', 'ineuron office', 123456789)\n",
      "(105, 'prashant', 'prasank065@gmail.com', 350, 105, 851123, 'whitefield', 'ineuron office', 123456789)\n",
      "(105, 'prashant', 'prasank065@gmail.com', 350, 105, 851123, 'whitefield', 'ineuron office', 123456789)\n"
     ]
    }
   ],
   "source": [
    "for i in data:\n",
    "    print(i)"
   ]
  },
  {
   "cell_type": "code",
   "execution_count": 22,
   "id": "507ecbbc",
   "metadata": {},
   "outputs": [
    {
     "ename": "OperationalError",
     "evalue": "RIGHT and FULL OUTER JOINs are not currently supported",
     "output_type": "error",
     "traceback": [
      "\u001b[1;31m---------------------------------------------------------------------------\u001b[0m",
      "\u001b[1;31mOperationalError\u001b[0m                          Traceback (most recent call last)",
      "\u001b[1;32mC:\\Users\\PRASHA~1\\AppData\\Local\\Temp/ipykernel_11956/300762238.py\u001b[0m in \u001b[0;36m<module>\u001b[1;34m\u001b[0m\n\u001b[1;32m----> 1\u001b[1;33m \u001b[0mdata\u001b[0m\u001b[1;33m=\u001b[0m\u001b[0mc\u001b[0m\u001b[1;33m.\u001b[0m\u001b[0mexecute\u001b[0m\u001b[1;33m(\u001b[0m\u001b[1;34m'select * from student s right join address a on s.student_id=a.student_id'\u001b[0m\u001b[1;33m)\u001b[0m\u001b[1;33m\u001b[0m\u001b[1;33m\u001b[0m\u001b[0m\n\u001b[0m",
      "\u001b[1;31mOperationalError\u001b[0m: RIGHT and FULL OUTER JOINs are not currently supported"
     ]
    }
   ],
   "source": [
    "data=c.execute('select * from student s right join address a on s.student_id=a.student_id')"
   ]
  },
  {
   "cell_type": "code",
   "execution_count": 24,
   "id": "cb8c1c08",
   "metadata": {},
   "outputs": [],
   "source": [
    "data=c.execute('select * from address s left join student a on s.student_id=a.student_id')"
   ]
  },
  {
   "cell_type": "code",
   "execution_count": 25,
   "id": "79a001a9",
   "metadata": {},
   "outputs": [
    {
     "name": "stdout",
     "output_type": "stream",
     "text": [
      "(100, 851123, 'whitefield', 'ineuron office', 123456789, 100, 'prashant', 'prasank065@gmail.com', 350)\n",
      "(100, 851123, 'whitefield', 'ineuron office', 123456789, 100, 'prashant', 'prasank065@gmail.com', 350)\n",
      "(100, 851123, 'whitefield', 'ineuron office', 123456789, 100, 'prashant', 'prasank065@gmail.com', 350)\n",
      "(100, 851123, 'whitefield', 'ineuron office', 123456789, 100, 'prashant', 'prasank065@gmail.com', 350)\n",
      "(100, 851123, 'whitefield', 'ineuron office', 123456789, 100, 'prashant', 'prasank065@gmail.com', 350)\n",
      "(100, 851123, 'whitefield', 'ineuron office', 123456789, 100, 'prashant', 'prasank065@gmail.com', 350)\n",
      "(100, 851123, 'whitefield', 'ineuron office', 123456789, 100, 'prashant', 'prasank065@gmail.com', 350)\n",
      "(101, 851123, 'whitefield', 'ineuron office', 123456789, 101, 'prashant', 'prasank065@gmail.com', 350)\n",
      "(100, 851123, 'whitefield', 'ineuron office', 123456789, 100, 'prashant', 'prasank065@gmail.com', 350)\n",
      "(100, 851123, 'whitefield', 'ineuron office', 123456789, 100, 'prashant', 'prasank065@gmail.com', 350)\n",
      "(100, 851123, 'whitefield', 'ineuron office', 123456789, 100, 'prashant', 'prasank065@gmail.com', 350)\n",
      "(100, 851123, 'whitefield', 'ineuron office', 123456789, 100, 'prashant', 'prasank065@gmail.com', 350)\n",
      "(100, 851123, 'whitefield', 'ineuron office', 123456789, 100, 'prashant', 'prasank065@gmail.com', 350)\n",
      "(100, 851123, 'whitefield', 'ineuron office', 123456789, 100, 'prashant', 'prasank065@gmail.com', 350)\n",
      "(100, 851123, 'whitefield', 'ineuron office', 123456789, 100, 'prashant', 'prasank065@gmail.com', 350)\n",
      "(102, 851123, 'whitefield', 'ineuron office', 123456789, 102, 'prashant', 'prasank065@gmail.com', 350)\n",
      "(103, 851123, 'whitefield', 'ineuron office', 123456789, 103, 'prashant', 'prasank065@gmail.com', 350)\n",
      "(104, 851123, 'whitefield', 'ineuron office', 123456789, 104, 'prashant', 'prasank065@gmail.com', 350)\n",
      "(102, 851123, 'whitefield', 'ineuron office', 123456789, 102, 'prashant', 'prasank065@gmail.com', 350)\n",
      "(103, 851123, 'whitefield', 'ineuron office', 123456789, 103, 'prashant', 'prasank065@gmail.com', 350)\n",
      "(104, 851123, 'whitefield', 'ineuron office', 123456789, 104, 'prashant', 'prasank065@gmail.com', 350)\n",
      "(105, 851123, 'whitefield', 'ineuron office', 123456789, 105, 'prashant', 'prasank065@gmail.com', 350)\n",
      "(106, 851123, 'whitefield', 'ineuron office', 123456789, None, None, None, None)\n",
      "(104, 851123, 'whitefield', 'ineuron office', 123456789, 104, 'prashant', 'prasank065@gmail.com', 350)\n",
      "(106, 851123, 'whitefield', 'ineuron office', 123456789, None, None, None, None)\n",
      "(104, 851123, 'whitefield', 'ineuron office', 123456789, 104, 'prashant', 'prasank065@gmail.com', 350)\n",
      "(105, 851123, 'whitefield', 'ineuron office', 123456789, 105, 'prashant', 'prasank065@gmail.com', 350)\n"
     ]
    }
   ],
   "source": [
    "for i in data:\n",
    "    print(i)"
   ]
  },
  {
   "cell_type": "code",
   "execution_count": 26,
   "id": "aa84f139",
   "metadata": {},
   "outputs": [
    {
     "name": "stdout",
     "output_type": "stream",
     "text": [
      "(100, 'prashant', 'prasank065@gmail.com', 350)\n",
      "(100, 'prashant', 'prasank065@gmail.com', 350)\n",
      "(100, 'prashant', 'prasank065@gmail.com', 350)\n",
      "(100, 'prashant', 'prasank065@gmail.com', 350)\n",
      "(100, 'prashant', 'prasank065@gmail.com', 350)\n",
      "(100, 'prashant', 'prasank065@gmail.com', 350)\n",
      "(100, 'prashant', 'prasank065@gmail.com', 350)\n",
      "(101, 'prashant', 'prasank065@gmail.com', 350)\n",
      "(102, 'prashant', 'prasank065@gmail.com', 350)\n",
      "(103, 'prashant', 'prasank065@gmail.com', 350)\n",
      "(104, 'prashant', 'prasank065@gmail.com', 350)\n",
      "(105, 'prashant', 'prasank065@gmail.com', 350)\n"
     ]
    }
   ],
   "source": [
    "for i in c.execute('select * from student'):\n",
    "    print(i)"
   ]
  },
  {
   "cell_type": "code",
   "execution_count": 30,
   "id": "3896e8ed",
   "metadata": {},
   "outputs": [
    {
     "data": {
      "text/plain": [
       "<sqlite3.Cursor at 0x1e7ecb24ab0>"
      ]
     },
     "execution_count": 30,
     "metadata": {},
     "output_type": "execute_result"
    }
   ],
   "source": [
    "c.execute('delete from student where student_id<101')"
   ]
  },
  {
   "cell_type": "code",
   "execution_count": 31,
   "id": "dbc23f92",
   "metadata": {},
   "outputs": [
    {
     "name": "stdout",
     "output_type": "stream",
     "text": [
      "(101, 'prashant', 'prasank065@gmail.com', 350)\n",
      "(102, 'prashant', 'prasank065@gmail.com', 350)\n",
      "(103, 'prashant', 'prasank065@gmail.com', 350)\n",
      "(104, 'prashant', 'prasank065@gmail.com', 350)\n",
      "(105, 'prashant', 'prasank065@gmail.com', 350)\n"
     ]
    }
   ],
   "source": [
    "for i in c.execute('select * from student'):\n",
    "    print(i)"
   ]
  },
  {
   "cell_type": "code",
   "execution_count": 34,
   "id": "de28fa2d",
   "metadata": {},
   "outputs": [],
   "source": [
    "data=c.execute('update student set student_id=1000 where student_id=101')"
   ]
  },
  {
   "cell_type": "code",
   "execution_count": 36,
   "id": "a6be2b69",
   "metadata": {},
   "outputs": [],
   "source": [
    "data=c.execute('select * from student')"
   ]
  },
  {
   "cell_type": "code",
   "execution_count": 37,
   "id": "375e14dc",
   "metadata": {},
   "outputs": [
    {
     "data": {
      "text/plain": [
       "[(1000, 'prashant', 'prasank065@gmail.com', 350),\n",
       " (102, 'prashant', 'prasank065@gmail.com', 350),\n",
       " (103, 'prashant', 'prasank065@gmail.com', 350),\n",
       " (104, 'prashant', 'prasank065@gmail.com', 350),\n",
       " (105, 'prashant', 'prasank065@gmail.com', 350)]"
      ]
     },
     "execution_count": 37,
     "metadata": {},
     "output_type": "execute_result"
    }
   ],
   "source": [
    "data.fetchall()"
   ]
  },
  {
   "cell_type": "code",
   "execution_count": 38,
   "id": "e24eb75f",
   "metadata": {},
   "outputs": [],
   "source": [
    "db.close()"
   ]
  },
  {
   "cell_type": "code",
   "execution_count": 39,
   "id": "bf88e6f2",
   "metadata": {},
   "outputs": [],
   "source": [
    "l=[1,2,3,4,5,6]"
   ]
  },
  {
   "cell_type": "code",
   "execution_count": 40,
   "id": "345bddcf",
   "metadata": {},
   "outputs": [],
   "source": [
    "l1=[]\n",
    "for i in l:\n",
    "    l1.append(i+5)"
   ]
  },
  {
   "cell_type": "code",
   "execution_count": 41,
   "id": "909f0cc3",
   "metadata": {},
   "outputs": [
    {
     "data": {
      "text/plain": [
       "[6, 7, 8, 9, 10, 11]"
      ]
     },
     "execution_count": 41,
     "metadata": {},
     "output_type": "execute_result"
    }
   ],
   "source": [
    "l1"
   ]
  },
  {
   "cell_type": "code",
   "execution_count": 42,
   "id": "075df540",
   "metadata": {},
   "outputs": [
    {
     "data": {
      "text/plain": [
       "[6, 7, 8, 9, 10, 11]"
      ]
     },
     "execution_count": 42,
     "metadata": {},
     "output_type": "execute_result"
    }
   ],
   "source": [
    "[i+5 for i in l]"
   ]
  },
  {
   "cell_type": "code",
   "execution_count": 43,
   "id": "14e4f2bc",
   "metadata": {},
   "outputs": [],
   "source": [
    "def test(a):\n",
    "    return a+5"
   ]
  },
  {
   "cell_type": "code",
   "execution_count": 45,
   "id": "2834b43a",
   "metadata": {},
   "outputs": [
    {
     "data": {
      "text/plain": [
       "[6, 7, 8, 9, 10, 11]"
      ]
     },
     "execution_count": 45,
     "metadata": {},
     "output_type": "execute_result"
    }
   ],
   "source": [
    "list(map(test,l))"
   ]
  },
  {
   "cell_type": "code",
   "execution_count": 46,
   "id": "d7e36795",
   "metadata": {},
   "outputs": [],
   "source": [
    "def test1(a):\n",
    "    return a*534+435"
   ]
  },
  {
   "cell_type": "code",
   "execution_count": 47,
   "id": "6385f3b1",
   "metadata": {},
   "outputs": [
    {
     "data": {
      "text/plain": [
       "[969, 1503, 2037, 2571, 3105, 3639]"
      ]
     },
     "execution_count": 47,
     "metadata": {},
     "output_type": "execute_result"
    }
   ],
   "source": [
    "list(map(test1,l))"
   ]
  },
  {
   "cell_type": "code",
   "execution_count": 48,
   "id": "ff5dfa07",
   "metadata": {},
   "outputs": [],
   "source": [
    "l1=['234','345','543','5435','543','5435']"
   ]
  },
  {
   "cell_type": "code",
   "execution_count": 49,
   "id": "c1bbb912",
   "metadata": {},
   "outputs": [],
   "source": [
    "def test2(a):\n",
    "    return int(a)"
   ]
  },
  {
   "cell_type": "code",
   "execution_count": 50,
   "id": "3b60cb27",
   "metadata": {},
   "outputs": [
    {
     "data": {
      "text/plain": [
       "435"
      ]
     },
     "execution_count": 50,
     "metadata": {},
     "output_type": "execute_result"
    }
   ],
   "source": [
    "test2('435')"
   ]
  },
  {
   "cell_type": "code",
   "execution_count": 51,
   "id": "9bd84597",
   "metadata": {},
   "outputs": [
    {
     "data": {
      "text/plain": [
       "[234, 345, 543, 5435, 543, 5435]"
      ]
     },
     "execution_count": 51,
     "metadata": {},
     "output_type": "execute_result"
    }
   ],
   "source": [
    "list(map(test2,l1))"
   ]
  },
  {
   "cell_type": "code",
   "execution_count": 53,
   "id": "b289dba4",
   "metadata": {},
   "outputs": [
    {
     "data": {
      "text/plain": [
       "[234, 345, 543, 5435, 543, 5435]"
      ]
     },
     "execution_count": 53,
     "metadata": {},
     "output_type": "execute_result"
    }
   ],
   "source": [
    "list(map(lambda x: int(x),l1))"
   ]
  },
  {
   "cell_type": "code",
   "execution_count": 54,
   "id": "bf845904",
   "metadata": {},
   "outputs": [
    {
     "data": {
      "text/plain": [
       "[6, 7, 8, 9, 10, 11]"
      ]
     },
     "execution_count": 54,
     "metadata": {},
     "output_type": "execute_result"
    }
   ],
   "source": [
    "list(map(lambda x:x+5,l))"
   ]
  },
  {
   "cell_type": "code",
   "execution_count": 55,
   "id": "47cedead",
   "metadata": {},
   "outputs": [
    {
     "data": {
      "text/plain": [
       "[1, 2, 3, 4, 5, 6]"
      ]
     },
     "execution_count": 55,
     "metadata": {},
     "output_type": "execute_result"
    }
   ],
   "source": [
    "l"
   ]
  },
  {
   "cell_type": "code",
   "execution_count": 56,
   "id": "ca9ee1ec",
   "metadata": {},
   "outputs": [],
   "source": [
    "l=[4,5,6,7,78,8,78]"
   ]
  },
  {
   "cell_type": "code",
   "execution_count": 61,
   "id": "5c37012d",
   "metadata": {},
   "outputs": [],
   "source": [
    "def test4(a):\n",
    "    if a%2==0:\n",
    "        return a"
   ]
  },
  {
   "cell_type": "code",
   "execution_count": 63,
   "id": "048023f2",
   "metadata": {},
   "outputs": [
    {
     "data": {
      "text/plain": [
       "[4, 6, 78, 8, 78]"
      ]
     },
     "execution_count": 63,
     "metadata": {},
     "output_type": "execute_result"
    }
   ],
   "source": [
    "[i for i in l if i%2==0]"
   ]
  },
  {
   "cell_type": "code",
   "execution_count": 65,
   "id": "9e6169b8",
   "metadata": {},
   "outputs": [
    {
     "data": {
      "text/plain": [
       "[4, 6, 78, 8, 78]"
      ]
     },
     "execution_count": 65,
     "metadata": {},
     "output_type": "execute_result"
    }
   ],
   "source": [
    "list(filter(test4,l))"
   ]
  },
  {
   "cell_type": "code",
   "execution_count": 67,
   "id": "fe570d67",
   "metadata": {},
   "outputs": [
    {
     "data": {
      "text/plain": [
       "[4, 6, 78, 8, 78]"
      ]
     },
     "execution_count": 67,
     "metadata": {},
     "output_type": "execute_result"
    }
   ],
   "source": [
    "list(filter(lambda x:x%2==0,l))"
   ]
  },
  {
   "cell_type": "code",
   "execution_count": 68,
   "id": "1d36d7a9",
   "metadata": {},
   "outputs": [],
   "source": [
    "from functools import reduce"
   ]
  },
  {
   "cell_type": "code",
   "execution_count": 70,
   "id": "919d966f",
   "metadata": {},
   "outputs": [],
   "source": [
    "l=[3,4,5,6,7,3,8]"
   ]
  },
  {
   "cell_type": "code",
   "execution_count": 71,
   "id": "6414c657",
   "metadata": {},
   "outputs": [
    {
     "data": {
      "text/plain": [
       "36"
      ]
     },
     "execution_count": 71,
     "metadata": {},
     "output_type": "execute_result"
    }
   ],
   "source": [
    "sum(l)"
   ]
  },
  {
   "cell_type": "code",
   "execution_count": 75,
   "id": "576f4c71",
   "metadata": {},
   "outputs": [],
   "source": [
    "def test5(a,b):\n",
    "    return a*b"
   ]
  },
  {
   "cell_type": "code",
   "execution_count": 76,
   "id": "72c70b03",
   "metadata": {},
   "outputs": [
    {
     "data": {
      "text/plain": [
       "60480"
      ]
     },
     "execution_count": 76,
     "metadata": {},
     "output_type": "execute_result"
    }
   ],
   "source": [
    "reduce(test5,l)"
   ]
  },
  {
   "cell_type": "code",
   "execution_count": 77,
   "id": "d4e46d68",
   "metadata": {},
   "outputs": [],
   "source": [
    "def test5(a,b):\n",
    "    return a/b"
   ]
  },
  {
   "cell_type": "code",
   "execution_count": 78,
   "id": "1b26f4b3",
   "metadata": {},
   "outputs": [
    {
     "data": {
      "text/plain": [
       "0.0001488095238095238"
      ]
     },
     "execution_count": 78,
     "metadata": {},
     "output_type": "execute_result"
    }
   ],
   "source": [
    "reduce(test5,l)"
   ]
  },
  {
   "cell_type": "code",
   "execution_count": 79,
   "id": "b18dc9e4",
   "metadata": {},
   "outputs": [],
   "source": [
    "def test5(a,b,c):\n",
    "    return a*b*c"
   ]
  },
  {
   "cell_type": "code",
   "execution_count": 80,
   "id": "2b4937e5",
   "metadata": {},
   "outputs": [
    {
     "ename": "TypeError",
     "evalue": "test5() missing 1 required positional argument: 'c'",
     "output_type": "error",
     "traceback": [
      "\u001b[1;31m---------------------------------------------------------------------------\u001b[0m",
      "\u001b[1;31mTypeError\u001b[0m                                 Traceback (most recent call last)",
      "\u001b[1;32mC:\\Users\\PRASHA~1\\AppData\\Local\\Temp/ipykernel_11956/3822575765.py\u001b[0m in \u001b[0;36m<module>\u001b[1;34m\u001b[0m\n\u001b[1;32m----> 1\u001b[1;33m \u001b[0mreduce\u001b[0m\u001b[1;33m(\u001b[0m\u001b[0mtest5\u001b[0m\u001b[1;33m,\u001b[0m\u001b[0ml\u001b[0m\u001b[1;33m)\u001b[0m\u001b[1;33m\u001b[0m\u001b[1;33m\u001b[0m\u001b[0m\n\u001b[0m",
      "\u001b[1;31mTypeError\u001b[0m: test5() missing 1 required positional argument: 'c'"
     ]
    }
   ],
   "source": [
    "reduce(test5,l)"
   ]
  },
  {
   "cell_type": "code",
   "execution_count": 81,
   "id": "4ea51cca",
   "metadata": {},
   "outputs": [],
   "source": [
    "l=[3]"
   ]
  },
  {
   "cell_type": "code",
   "execution_count": 82,
   "id": "a5a39d11",
   "metadata": {},
   "outputs": [
    {
     "data": {
      "text/plain": [
       "3"
      ]
     },
     "execution_count": 82,
     "metadata": {},
     "output_type": "execute_result"
    }
   ],
   "source": [
    "reduce(test5,l)"
   ]
  },
  {
   "cell_type": "code",
   "execution_count": 83,
   "id": "3012a715",
   "metadata": {},
   "outputs": [],
   "source": [
    "l=[]"
   ]
  },
  {
   "cell_type": "code",
   "execution_count": 84,
   "id": "6721b588",
   "metadata": {},
   "outputs": [
    {
     "ename": "TypeError",
     "evalue": "reduce() of empty sequence with no initial value",
     "output_type": "error",
     "traceback": [
      "\u001b[1;31m---------------------------------------------------------------------------\u001b[0m",
      "\u001b[1;31mTypeError\u001b[0m                                 Traceback (most recent call last)",
      "\u001b[1;32mC:\\Users\\PRASHA~1\\AppData\\Local\\Temp/ipykernel_11956/3822575765.py\u001b[0m in \u001b[0;36m<module>\u001b[1;34m\u001b[0m\n\u001b[1;32m----> 1\u001b[1;33m \u001b[0mreduce\u001b[0m\u001b[1;33m(\u001b[0m\u001b[0mtest5\u001b[0m\u001b[1;33m,\u001b[0m\u001b[0ml\u001b[0m\u001b[1;33m)\u001b[0m\u001b[1;33m\u001b[0m\u001b[1;33m\u001b[0m\u001b[0m\n\u001b[0m",
      "\u001b[1;31mTypeError\u001b[0m: reduce() of empty sequence with no initial value"
     ]
    }
   ],
   "source": [
    "reduce(test5,l)"
   ]
  },
  {
   "cell_type": "code",
   "execution_count": 86,
   "id": "a7bb8e7f",
   "metadata": {},
   "outputs": [],
   "source": [
    "l=[3,4,5,6,7,3,8]"
   ]
  },
  {
   "cell_type": "code",
   "execution_count": 87,
   "id": "410d8ac7",
   "metadata": {},
   "outputs": [
    {
     "data": {
      "text/plain": [
       "36"
      ]
     },
     "execution_count": 87,
     "metadata": {},
     "output_type": "execute_result"
    }
   ],
   "source": [
    "reduce(lambda x,y:x+y,l)"
   ]
  },
  {
   "cell_type": "code",
   "execution_count": 88,
   "id": "4fec1d42",
   "metadata": {},
   "outputs": [
    {
     "data": {
      "text/plain": [
       "0.0001488095238095238"
      ]
     },
     "execution_count": 88,
     "metadata": {},
     "output_type": "execute_result"
    }
   ],
   "source": [
    "reduce(lambda x,y:x/y,l)"
   ]
  },
  {
   "cell_type": "code",
   "execution_count": 89,
   "id": "43b5b3b1",
   "metadata": {},
   "outputs": [],
   "source": [
    "l=[1,2,3,4,5]\n",
    "l1=[4,5,6,7,7]"
   ]
  },
  {
   "cell_type": "code",
   "execution_count": 90,
   "id": "b062a43b",
   "metadata": {},
   "outputs": [
    {
     "data": {
      "text/plain": [
       "[(1, 4), (2, 5), (3, 6), (4, 7), (5, 7)]"
      ]
     },
     "execution_count": 90,
     "metadata": {},
     "output_type": "execute_result"
    }
   ],
   "source": [
    "list(zip(l,l1))"
   ]
  },
  {
   "cell_type": "code",
   "execution_count": 91,
   "id": "7925de9c",
   "metadata": {},
   "outputs": [],
   "source": [
    "l=[1,2,3,4,5]\n",
    "l1=[4,5,6,7,7]\n",
    "l2=['prashant','sudhanshu','sunny','krish']"
   ]
  },
  {
   "cell_type": "code",
   "execution_count": 92,
   "id": "6557f849",
   "metadata": {},
   "outputs": [
    {
     "data": {
      "text/plain": [
       "[(1, 4, 'prashant'), (2, 5, 'sudhanshu'), (3, 6, 'sunny'), (4, 7, 'krish')]"
      ]
     },
     "execution_count": 92,
     "metadata": {},
     "output_type": "execute_result"
    }
   ],
   "source": [
    "list(zip(l,l1,l2))"
   ]
  },
  {
   "cell_type": "markdown",
   "id": "10175a39",
   "metadata": {},
   "source": [
    "Question:-\n",
    "1.Try to find out a count of each and every word in a respective file return list of tuple with word and its respective\n",
    "2.Try to perform a reduce operation to get a count of all the word starting with same alphabet\n",
    "3.Try to filter out all the words from dataset.ex-.001.abstract=abstract,.002=delete\n",
    "4.Create a tuple set of all the records available all the five file from below and then store it in sqlite DB."
   ]
  },
  {
   "cell_type": "code",
   "execution_count": null,
   "id": "99edf532",
   "metadata": {},
   "outputs": [],
   "source": []
  }
 ],
 "metadata": {
  "kernelspec": {
   "display_name": "Python 3 (ipykernel)",
   "language": "python",
   "name": "python3"
  },
  "language_info": {
   "codemirror_mode": {
    "name": "ipython",
    "version": 3
   },
   "file_extension": ".py",
   "mimetype": "text/x-python",
   "name": "python",
   "nbconvert_exporter": "python",
   "pygments_lexer": "ipython3",
   "version": "3.9.7"
  }
 },
 "nbformat": 4,
 "nbformat_minor": 5
}
